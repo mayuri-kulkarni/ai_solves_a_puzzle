{
 "cells": [
  {
   "cell_type": "markdown",
   "id": "fd57e253-7881-42a2-bff6-c723550fe744",
   "metadata": {},
   "source": [
    "# AI solving a puzzle \n",
    "\n",
    "## we are writing an algorithm to give birth to this AI, we will teach it how to solve puzzles using hints. And just like humans we will try to teach AI to learn information from the given problem, how to make smart choices.\n",
    "\n",
    "### Requirements : \n",
    "1. There's a puzzle board of m rows and n columns\n",
    "2. There's going to be say a bag of pieces in the form of list given to the AI\n",
    "3. We are going to give no/some inteligent information to the AI\n",
    "\n",
    "example :\n",
    "As an input we are going to give a shuffled list of pieces \n",
    "\n",
    "list_pieces = [4, 5, 1, 2, 3, 8, 9 , 6, 7]\n",
    "\n",
    "size of list_pieces = m * n\n",
    "\n",
    "This is how it looks after puzzling it together\n",
    "\n",
    "| 1 | 2 | 3 |\n",
    "\n",
    "| 4 | 5 | 6 |\n",
    "\n",
    "| 7 | 8 | 9 |....[3 x 3]\n",
    "\n",
    "\n",
    "### additional info / heuristic function : \n",
    "Like humans we are going to teach the AI how to find information from whatever is the input \n",
    "1. is given piece a corner piece\n",
    "    -> we usually start or identify a piece as corner piece or an edge piece which helps us identify if\n",
    "\n",
    "### Rules\n",
    "1. \n",
    "\n",
    "\n",
    "The algorithm\n",
    "1. a baby (brute force see if all work)\n",
    "2. a slightly smarter baby (remembers if something is wrong)\n",
    "3. a smart kid (takes hint and learns how to solve puzzle)\n",
    "4. "
   ]
  },
  {
   "cell_type": "code",
   "execution_count": 55,
   "id": "6f238a0b-7845-4216-bb93-ecd94a5d5eef",
   "metadata": {},
   "outputs": [],
   "source": [
    "import numpy as np\n",
    "from copy import deepcopy"
   ]
  },
  {
   "cell_type": "code",
   "execution_count": null,
   "id": "952019c5-6f65-4c39-9193-b7b10dad8c7b",
   "metadata": {},
   "outputs": [],
   "source": []
  },
  {
   "cell_type": "code",
   "execution_count": 45,
   "id": "6b4f261c-12b5-4711-87b5-ab8649b8b479",
   "metadata": {},
   "outputs": [
    {
     "data": {
      "text/plain": [
       "16"
      ]
     },
     "execution_count": 45,
     "metadata": {},
     "output_type": "execute_result"
    }
   ],
   "source": [
    "m = 4\n",
    "n = 4\n",
    "elements = m*n\n",
    "elements"
   ]
  },
  {
   "cell_type": "code",
   "execution_count": 58,
   "id": "5222272b-199a-4d7f-bf6d-4c42503739ff",
   "metadata": {},
   "outputs": [
    {
     "data": {
      "text/plain": [
       "[1, 2, 3, 4, 5, 6, 7, 8, 9, 10, 11, 12, 13, 14, 15, 16]"
      ]
     },
     "execution_count": 58,
     "metadata": {},
     "output_type": "execute_result"
    }
   ],
   "source": [
    "pieces = [ x for x in range(1,elements+1)]\n",
    "true_pieces = deepcopy(pieces)\n",
    "true_pieces"
   ]
  },
  {
   "cell_type": "code",
   "execution_count": 65,
   "id": "29f382f4-7e21-4ab4-81b8-e3c9a7f35074",
   "metadata": {},
   "outputs": [
    {
     "data": {
      "text/plain": [
       "[(1, 1),\n",
       " (2, 0),\n",
       " (3, 0),\n",
       " (4, 1),\n",
       " (5, 0),\n",
       " (6, 0),\n",
       " (7, 0),\n",
       " (8, 0),\n",
       " (9, 0),\n",
       " (10, 0),\n",
       " (11, 0),\n",
       " (12, 0),\n",
       " (13, 1),\n",
       " (14, 0),\n",
       " (15, 0),\n",
       " (16, 1)]"
      ]
     },
     "execution_count": 65,
     "metadata": {},
     "output_type": "execute_result"
    }
   ],
   "source": [
    "# heuristic information : corner pieces\n",
    "corner_pieces = []\n",
    "corner_pieces.append(1)\n",
    "corner_pieces.append(elements)\n",
    "\n",
    "corner_pieces.append(1 + n-1)\n",
    "corner_pieces.append(elements - (n-1))\n",
    "corner_pieces\n",
    "\n",
    "h_corner =[]\n",
    "for piece in true_pieces:\n",
    "    if corner_pieces.__contains__(piece) :\n",
    "        h_corner.append((piece,1))\n",
    "    else :\n",
    "        h_corner.append((piece,0))\n",
    "h_corner        "
   ]
  },
  {
   "cell_type": "code",
   "execution_count": null,
   "id": "135ac54d-c5a5-4a69-ad36-f878bdc10c10",
   "metadata": {},
   "outputs": [],
   "source": []
  },
  {
   "cell_type": "code",
   "execution_count": null,
   "id": "daceb343-bc4c-4b5f-b5ed-6b205891544f",
   "metadata": {},
   "outputs": [],
   "source": []
  }
 ],
 "metadata": {
  "kernelspec": {
   "display_name": "Python 3 (ipykernel)",
   "language": "python",
   "name": "python3"
  },
  "language_info": {
   "codemirror_mode": {
    "name": "ipython",
    "version": 3
   },
   "file_extension": ".py",
   "mimetype": "text/x-python",
   "name": "python",
   "nbconvert_exporter": "python",
   "pygments_lexer": "ipython3",
   "version": "3.8.8"
  }
 },
 "nbformat": 4,
 "nbformat_minor": 5
}
