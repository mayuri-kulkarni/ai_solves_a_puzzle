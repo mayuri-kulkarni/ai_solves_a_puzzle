{
 "cells": [
  {
   "cell_type": "markdown",
   "id": "fd57e253-7881-42a2-bff6-c723550fe744",
   "metadata": {
    "tags": []
   },
   "source": [
    "# AI solving a puzzle \n",
    "\n",
    "## we are writing an algorithm to give birth to this AI, we will teach it how to solve puzzles using hints. And just like humans we will try to teach AI to learn information from the given problem, how to make smart choices.\n",
    "\n",
    "### Requirements : \n",
    "1. There's a puzzle board of m rows and n columns\n",
    "2. There's going to be say a bag of pieces in the form of list given to the AI\n",
    "3. We are going to give no/some inteligent information to the AI\n",
    "\n",
    "example :\n",
    "As an input we are going to give a shuffled list of pieces \n",
    "\n",
    "list_pieces = [4, 5, 1, 2, 3, 8, 9 , 6, 7]\n",
    "\n",
    "size of list_pieces = m * n\n",
    "\n",
    "This is how it looks after putting it together\n",
    "\n",
    "| 1 | 2 | 3 |\n",
    "\n",
    "| 4 | 5 | 6 |\n",
    "\n",
    "| 7 | 8 | 9 |....[3 x 3]\n",
    "\n",
    "\n",
    "### Rules\n",
    "1. Sorting algorithms are strictly not allowed for directly placing pieces together\n",
    "2. [A1] : only piece around neighbours can be added\n",
    "3. \n",
    "\n",
    "\n",
    "### additional info / heuristic function : \n",
    "Like humans we are going to teach the AI how to find information from whatever is the input \n",
    "1. is given piece a corner piece, edge piece\n",
    "    -> we usually start or identify a piece as corner piece or an edge piece which helps us identify if\n",
    "\n",
    "\n",
    "\n",
    "The algorithm\n",
    "1. a baby (brute force see if all work)\n",
    "2. a slightly smarter baby (remembers if something is wrong)\n",
    "3. a smart kid (takes hint and learns how to solve puzzle)\n",
    "4. "
   ]
  },
  {
   "cell_type": "code",
   "execution_count": null,
   "id": "7d84fe87-d9a7-456c-98fe-29e4a19f35a3",
   "metadata": {},
   "outputs": [],
   "source": []
  },
  {
   "cell_type": "code",
   "execution_count": 3,
   "id": "6f238a0b-7845-4216-bb93-ecd94a5d5eef",
   "metadata": {},
   "outputs": [],
   "source": [
    "from copy import deepcopy\n",
    "import random\n",
    "\n",
    "import numpy as np\n"
   ]
  },
  {
   "cell_type": "code",
   "execution_count": null,
   "id": "952019c5-6f65-4c39-9193-b7b10dad8c7b",
   "metadata": {},
   "outputs": [],
   "source": []
  },
  {
   "cell_type": "markdown",
   "id": "6e565d13-7d8f-4768-962c-8e4a0ba5179e",
   "metadata": {},
   "source": [
    "# INPUTS"
   ]
  },
  {
   "cell_type": "code",
   "execution_count": 50,
   "id": "6b4f261c-12b5-4711-87b5-ab8649b8b479",
   "metadata": {},
   "outputs": [],
   "source": [
    "m = 3\n",
    "n = 4"
   ]
  },
  {
   "cell_type": "markdown",
   "id": "cf51115e-806a-4bb1-bbac-e82d8e146917",
   "metadata": {},
   "source": [
    "# Requirements from input"
   ]
  },
  {
   "cell_type": "code",
   "execution_count": 51,
   "id": "e61d363f-a064-4ab7-afc5-d205d5941ba8",
   "metadata": {},
   "outputs": [
    {
     "data": {
      "text/plain": [
       "12"
      ]
     },
     "execution_count": 51,
     "metadata": {},
     "output_type": "execute_result"
    }
   ],
   "source": [
    "elements = m*n\n",
    "elements"
   ]
  },
  {
   "cell_type": "code",
   "execution_count": 52,
   "id": "5222272b-199a-4d7f-bf6d-4c42503739ff",
   "metadata": {},
   "outputs": [
    {
     "data": {
      "text/plain": [
       "[1, 2, 3, 4, 5, 6, 7, 8, 9, 10, 11, 12]"
      ]
     },
     "execution_count": 52,
     "metadata": {},
     "output_type": "execute_result"
    }
   ],
   "source": [
    "pieces = [ x for x in range(1,elements+1)]\n",
    "true_pieces = deepcopy(pieces)\n",
    "true_pieces\n",
    "pieces"
   ]
  },
  {
   "cell_type": "code",
   "execution_count": 53,
   "id": "29f382f4-7e21-4ab4-81b8-e3c9a7f35074",
   "metadata": {},
   "outputs": [
    {
     "name": "stdout",
     "output_type": "stream",
     "text": [
      "corner_pieces=[1, 4, 12, 9]\n",
      "5\n"
     ]
    },
    {
     "data": {
      "text/plain": [
       "{1: 'TOP_LEFT',\n",
       " 2: 'TOP',\n",
       " 3: 'TOP',\n",
       " 4: 'TOP_RIGHT',\n",
       " 5: 'LEFT',\n",
       " 6: None,\n",
       " 7: None,\n",
       " 8: 'RIGHT',\n",
       " 9: 'BOTTOM_LEFT',\n",
       " 10: 'BOTTOM',\n",
       " 11: 'BOTTOM',\n",
       " 12: 'BOTTOM_RIGHT'}"
      ]
     },
     "execution_count": 53,
     "metadata": {},
     "output_type": "execute_result"
    }
   ],
   "source": [
    "# heuristic information : corner pieces\n",
    "dict_corner_pieces = {}\n",
    "corner_pieces = [ 1, n , elements, elements - (n-1)]\n",
    "\n",
    "dict_corner_pieces[corner_pieces[0]] = 'TOP_LEFT'\n",
    "dict_corner_pieces[corner_pieces[1]] = 'TOP_RIGHT'\n",
    "dict_corner_pieces[corner_pieces[2]] = 'BOTTOM_RIGHT'\n",
    "dict_corner_pieces[corner_pieces[3]] = 'BOTTOM_LEFT'\n",
    "\n",
    "print(f'{corner_pieces=}')\n",
    "\n",
    "h = {}\n",
    "for piece in true_pieces:\n",
    "    if dict_corner_pieces.get(piece)!=None :\n",
    "        h[piece] = dict_corner_pieces.get(piece)\n",
    "    else :\n",
    "         h[piece] = dict_corner_pieces.get(piece)\n",
    "            \n",
    "# heuristic information : edge pieces\n",
    "\n",
    "# find top edges | b/w corner_pieces\n",
    "for top_edge_pieces in range(2,n):\n",
    "    h[top_edge_pieces]='TOP'\n",
    "#     print(top_edge_pieces)\n",
    "\n",
    "# find right edges\n",
    "for right_edge_pieces in range(2*n,elements,n):\n",
    "    h[right_edge_pieces]='RIGHT'\n",
    "#     print(right_edge_pieces)\n",
    "    \n",
    "# find bottom edges\n",
    "for bottom_edge_pieces in range(corner_pieces[-1]+1,elements,1):\n",
    "    h[bottom_edge_pieces]='BOTTOM'\n",
    "#     print(bottom_edge_pieces)\n",
    "\n",
    "# find left edges \n",
    "for left_edge_pieces in range(1+n,corner_pieces[3],n):\n",
    "    h[left_edge_pieces]='LEFT'\n",
    "    print(left_edge_pieces)\n",
    "    \n",
    "h       "
   ]
  },
  {
   "cell_type": "markdown",
   "id": "e3729738-4d0c-4337-a0ac-c0e77c82677f",
   "metadata": {},
   "source": [
    "# Algorithm "
   ]
  },
  {
   "cell_type": "markdown",
   "id": "641ca1c1-39b1-41f3-8aa0-df8098704657",
   "metadata": {},
   "source": [
    "## Pre-requisites "
   ]
  },
  {
   "cell_type": "code",
   "execution_count": 83,
   "id": "00e3ff01-3bbe-4f5a-9b4c-ec6e3c8c8bb8",
   "metadata": {},
   "outputs": [],
   "source": [
    "# check if goal reached\n",
    "def goal_test(array_2d):\n",
    "#     print(f'{len(array_2d)== elements}')\n",
    "    return len(array_2d)== elements"
   ]
  },
  {
   "cell_type": "code",
   "execution_count": 55,
   "id": "34a7c275-4c77-452b-8da7-acf647fd44bb",
   "metadata": {},
   "outputs": [
    {
     "data": {
      "text/plain": [
       "array([[nan, nan, nan, nan],\n",
       "       [nan, nan, nan, nan],\n",
       "       [nan, nan, nan, nan]])"
      ]
     },
     "execution_count": 55,
     "metadata": {},
     "output_type": "execute_result"
    }
   ],
   "source": [
    "# empty place to put in puzzle\n",
    "puzzle = np.ndarray(shape=(m,n), dtype=float, order='F')\n",
    "for _m in range(0,m):\n",
    "    for _n in range(0,n):\n",
    "        puzzle[_m][_n]=None\n",
    "        \n",
    "puzzle        "
   ]
  },
  {
   "cell_type": "code",
   "execution_count": 56,
   "id": "f66676ee-947f-45b3-99d5-9a7d0f2f730b",
   "metadata": {},
   "outputs": [
    {
     "data": {
      "text/plain": [
       "[5, 12, 10, 1, 8, 11, 6, 9, 4, 7, 3, 2]"
      ]
     },
     "execution_count": 56,
     "metadata": {},
     "output_type": "execute_result"
    }
   ],
   "source": [
    "# shuffle pieces\n",
    "random.shuffle(pieces)\n",
    "pieces"
   ]
  },
  {
   "cell_type": "code",
   "execution_count": 82,
   "id": "17be5437-141d-49fc-88bc-2124b98c52bb",
   "metadata": {},
   "outputs": [
    {
     "data": {
      "text/plain": [
       "[3, 6, 1]"
      ]
     },
     "execution_count": 82,
     "metadata": {},
     "output_type": "execute_result"
    }
   ],
   "source": [
    "neighbours_index = [ -n , 1 , n , -1 ]\n",
    "def get_neighbours(piece : int):\n",
    "    neighbours = [ x+piece for x in neighbours_index ]\n",
    "    \n",
    "    if ( h[piece] != None):\n",
    "        if h[piece] == 'TOP_LEFT':\n",
    "            neighbours[0] = None\n",
    "            neighbours[-1] = None\n",
    "        elif h[piece] == 'TOP':\n",
    "            neighbours[0] = None\n",
    "        elif h[piece] == 'TOP_RIGHT':\n",
    "            neighbours[0] = None\n",
    "            neighbours[1] = None\n",
    "        elif h[piece] == 'RIGHT':\n",
    "            neighbours[1] = None\n",
    "        elif h[piece] == 'BOTTOM_RIGHT':\n",
    "            neighbours[1] = None\n",
    "            neighbours[2] = None\n",
    "        elif h[piece] == 'BOTTOM':\n",
    "            neighbours[2] = None\n",
    "        elif h[piece] == 'BOTTOM_LEFT':\n",
    "            neighbours[2] = None\n",
    "            neighbours[-1] = None\n",
    "        elif h[piece] == 'LEFT':\n",
    "            neighbours[-1] = None\n",
    "    try:    \n",
    "        while None in neighbours: neighbours.remove(None)\n",
    "    except :\n",
    "        'do nothing'\n",
    "#     print(f'{piece=} : {neighbours=}')\n",
    "    return neighbours\n",
    "get_neighbours(2)"
   ]
  },
  {
   "cell_type": "markdown",
   "id": "2048f60f-b6d5-4048-b1c7-100588bc816c",
   "metadata": {},
   "source": [
    "## 1. a baby (brute force see if all work)\n",
    "\n",
    "1. starting piece\n",
    "    1. what ever is the fist\n",
    "    2. randomly selected"
   ]
  },
  {
   "cell_type": "markdown",
   "id": "0d13e371-f83a-4d67-b52d-f1d44c79c66a",
   "metadata": {},
   "source": [
    "## 1. a baby (brute force see if all work)\n",
    "\n",
    "1. starting piece\n",
    "    1. what ever is the fist\n",
    "    2. randomly selected"
   ]
  },
  {
   "cell_type": "markdown",
   "id": "b19e669d-2530-467d-a864-56b28f886869",
   "metadata": {},
   "source": [
    "## 2. a slightly smarter baby (remembers if something is wrong)\n"
   ]
  },
  {
   "cell_type": "markdown",
   "id": "d5c2b780-baf3-4e4f-8347-386df0078ae1",
   "metadata": {},
   "source": [
    "## 3. a smart kid (follows rules, hints and learns how to solve puzzle)\n",
    "\n",
    " 1. tree based approach\n",
    " \n",
    " \n",
    "     1.1. BFS\n",
    "     \n",
    "     \n",
    "     1.2. DFS"
   ]
  },
  {
   "cell_type": "code",
   "execution_count": 86,
   "id": "93e37a5b-a829-468c-a45b-b7c83ee14dcb",
   "metadata": {},
   "outputs": [
    {
     "name": "stdout",
     "output_type": "stream",
     "text": [
      "pieces_placed=[]\n",
      "piece_to_place=[5]\n",
      "\n",
      "itr=1\n",
      "pieces_placed=[]\n",
      "\n",
      "itr=2\n",
      "pieces_placed=[5]\n",
      "\n",
      "itr=3\n",
      "pieces_placed=[5, 1]\n",
      "\n",
      "itr=4\n",
      "pieces_placed=[5, 1, 6]\n",
      "\n",
      "itr=5\n",
      "pieces_placed=[5, 1, 6, 9]\n",
      "\n",
      "itr=6\n",
      "pieces_placed=[5, 1, 6, 9, 2]\n",
      "\n",
      "itr=7\n",
      "pieces_placed=[5, 1, 6, 9, 2, 7]\n",
      "\n",
      "itr=8\n",
      "pieces_placed=[5, 1, 6, 9, 2, 7, 10]\n",
      "\n",
      "itr=9\n",
      "pieces_placed=[5, 1, 6, 9, 2, 7, 10, 3]\n",
      "\n",
      "itr=10\n",
      "pieces_placed=[5, 1, 6, 9, 2, 7, 10, 3, 8]\n",
      "\n",
      "itr=11\n",
      "pieces_placed=[5, 1, 6, 9, 2, 7, 10, 3, 8, 11]\n",
      "\n",
      "itr=12\n",
      "pieces_placed=[5, 1, 6, 9, 2, 7, 10, 3, 8, 11, 4]\n",
      "\n",
      "\n",
      "pieces_placed=[5, 1, 6, 9, 2, 7, 10, 3, 8, 11, 4, 12]\n"
     ]
    }
   ],
   "source": [
    "# pick a start node\n",
    "\n",
    "current_node = pieces[0] # start node\n",
    "\n",
    "pieces_placed = [] # closed list\n",
    "piece_to_place = [current_node] # open list\n",
    "\n",
    "print(f'{pieces_placed=}')\n",
    "print(f'{piece_to_place=}')\n",
    "\n",
    "itr =1\n",
    "while goal_test(pieces_placed)==False:\n",
    "    print(f'\\n{itr=}')\n",
    "    print(f'{pieces_placed=}')\n",
    "#     print(f'{piece_to_place=}')\n",
    "    current_node = piece_to_place[0]\n",
    "#     print(f'{current_node=}')\n",
    "\n",
    "    pieces_placed.append(current_node)\n",
    "    piece_to_place.remove(current_node)\n",
    "    \n",
    "    neighbours = get_neighbours(current_node)\n",
    "    for neighbour in neighbours:\n",
    "        if ( pieces_placed.__contains__(neighbour)==False and piece_to_place.__contains__(neighbour)==False ):\n",
    "#             print(f'{neighbour=}: {pieces_placed.__contains__(neighbour)=},{piece_to_place.__contains__(neighbour)=}')\n",
    "            piece_to_place.append(neighbour)\n",
    "    \n",
    "    itr+=1\n",
    "\n",
    "print(f'\\n\\n{pieces_placed=}')    "
   ]
  },
  {
   "cell_type": "code",
   "execution_count": 89,
   "id": "14679202-a401-4e75-bd63-392d85f148e0",
   "metadata": {},
   "outputs": [],
   "source": [
    "### todo : visualize how pieces are put together"
   ]
  },
  {
   "cell_type": "code",
   "execution_count": null,
   "id": "28c34729-2130-4b4a-876d-e8c609235f51",
   "metadata": {},
   "outputs": [],
   "source": []
  }
 ],
 "metadata": {
  "kernelspec": {
   "display_name": "Python 3 (ipykernel)",
   "language": "python",
   "name": "python3"
  },
  "language_info": {
   "codemirror_mode": {
    "name": "ipython",
    "version": 3
   },
   "file_extension": ".py",
   "mimetype": "text/x-python",
   "name": "python",
   "nbconvert_exporter": "python",
   "pygments_lexer": "ipython3",
   "version": "3.8.8"
  }
 },
 "nbformat": 4,
 "nbformat_minor": 5
}
