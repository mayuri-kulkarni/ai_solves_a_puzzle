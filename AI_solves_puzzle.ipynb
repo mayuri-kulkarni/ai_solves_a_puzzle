{
 "cells": [
  {
   "cell_type": "markdown",
   "id": "fd57e253-7881-42a2-bff6-c723550fe744",
   "metadata": {
    "tags": []
   },
   "source": [
    "# AI solving a puzzle \n",
    "\n",
    "## we are writing an algorithm to give birth to this AI, we will teach it how to solve puzzles using hints. And just like humans we will try to teach AI to learn information from the given problem, how to make smart choices.\n",
    "\n",
    "\n",
    "## Phase 1\n",
    "\n",
    "### Requirements : \n",
    "1. There's a puzzle board of m rows and n columns\n",
    "2. There's going to be say a bag of pieces in the form of list given to the AI\n",
    "3. We are going to give no/some inteligent information to the AI\n",
    "\n",
    "example :\n",
    "As an input we are going to give a shuffled list of pieces \n",
    "\n",
    "list_pieces = [4, 5, 1, 2, 3, 8, 9 , 6, 7]\n",
    "\n",
    "size of list_pieces = m * n\n",
    "\n",
    "This is how it looks after putting it together\n",
    "\n",
    "| 1 | 2 | 3 |\n",
    "\n",
    "| 4 | 5 | 6 |\n",
    "\n",
    "| 7 | 8 | 9 |....[3 x 3]\n",
    "\n",
    "\n",
    "### Rules\n",
    "1. Sorting algorithms are strictly not allowed for directly placing pieces together\n",
    "2. [A1] : only piece around neighbours can be added\n",
    "3. \n",
    "\n",
    "\n",
    "### Additional info / heuristic function : \n",
    "Like humans we are going to teach the AI how to find information from whatever is the input \n",
    "1. is given piece a corner piece, edge piece\n",
    "    -> we usually start or identify a piece as corner piece or an edge piece which helps us identify if\n",
    "\n",
    "\n",
    "\n",
    "### Algorithm\n",
    "1. takes hint and learns how to solve puzzle using BFS and DFS separately\n",
    " \n",
    "\n",
    "## Phase 2\n",
    "\n",
    "### Goals -  \n",
    "- Instead of a numeric puzzle, use actual pictorial puzzle. \n",
    "- using image processing and recognition find neighbouring puzzle pieces to complete the puzzle  \n"
   ]
  },
  {
   "cell_type": "code",
   "execution_count": 1,
   "id": "6f238a0b-7845-4216-bb93-ecd94a5d5eef",
   "metadata": {},
   "outputs": [],
   "source": [
    "from copy import deepcopy\n",
    "import random\n",
    "\n",
    "import numpy as np\n",
    "\n",
    "from random import uniform\n",
    "import time\n",
    "from IPython.display import display, clear_output\n"
   ]
  },
  {
   "cell_type": "markdown",
   "id": "6e565d13-7d8f-4768-962c-8e4a0ba5179e",
   "metadata": {
    "jp-MarkdownHeadingCollapsed": true,
    "tags": []
   },
   "source": [
    "# INPUTS\n",
    "\n",
    "m x n puzzle"
   ]
  },
  {
   "cell_type": "code",
   "execution_count": 2,
   "id": "6b4f261c-12b5-4711-87b5-ab8649b8b479",
   "metadata": {},
   "outputs": [],
   "source": [
    "m = 4\n",
    "n = 3"
   ]
  },
  {
   "cell_type": "markdown",
   "id": "e3729738-4d0c-4337-a0ac-c0e77c82677f",
   "metadata": {
    "tags": []
   },
   "source": [
    "# Algorithm Phase 1"
   ]
  },
  {
   "cell_type": "markdown",
   "id": "cf51115e-806a-4bb1-bbac-e82d8e146917",
   "metadata": {
    "tags": []
   },
   "source": [
    "## Requirements gathering from input"
   ]
  },
  {
   "cell_type": "code",
   "execution_count": 3,
   "id": "e61d363f-a064-4ab7-afc5-d205d5941ba8",
   "metadata": {},
   "outputs": [
    {
     "data": {
      "text/plain": [
       "12"
      ]
     },
     "execution_count": 3,
     "metadata": {},
     "output_type": "execute_result"
    }
   ],
   "source": [
    "elements = m*n\n",
    "elements"
   ]
  },
  {
   "cell_type": "code",
   "execution_count": 4,
   "id": "5222272b-199a-4d7f-bf6d-4c42503739ff",
   "metadata": {},
   "outputs": [
    {
     "data": {
      "text/plain": [
       "[1, 2, 3, 4, 5, 6, 7, 8, 9, 10, 11, 12]"
      ]
     },
     "execution_count": 4,
     "metadata": {},
     "output_type": "execute_result"
    }
   ],
   "source": [
    "pieces = [ x for x in range(1,elements+1)]\n",
    "true_pieces = deepcopy(pieces)\n",
    "true_pieces\n",
    "pieces"
   ]
  },
  {
   "cell_type": "code",
   "execution_count": 5,
   "id": "29f382f4-7e21-4ab4-81b8-e3c9a7f35074",
   "metadata": {},
   "outputs": [
    {
     "name": "stdout",
     "output_type": "stream",
     "text": [
      "corner_pieces=[1, 3, 12, 10]\n"
     ]
    },
    {
     "data": {
      "text/plain": [
       "{1: 'TOP_LEFT',\n",
       " 2: 'TOP',\n",
       " 3: 'TOP_RIGHT',\n",
       " 4: 'LEFT',\n",
       " 5: None,\n",
       " 6: 'RIGHT',\n",
       " 7: 'LEFT',\n",
       " 8: None,\n",
       " 9: 'RIGHT',\n",
       " 10: 'BOTTOM_LEFT',\n",
       " 11: 'BOTTOM',\n",
       " 12: 'BOTTOM_RIGHT'}"
      ]
     },
     "execution_count": 5,
     "metadata": {},
     "output_type": "execute_result"
    }
   ],
   "source": [
    "# heuristic information : corner pieces\n",
    "dict_corner_pieces = {}\n",
    "corner_pieces = [ 1, n , elements, elements - (n-1)]\n",
    "\n",
    "dict_corner_pieces[corner_pieces[0]] = 'TOP_LEFT'\n",
    "dict_corner_pieces[corner_pieces[1]] = 'TOP_RIGHT'\n",
    "dict_corner_pieces[corner_pieces[2]] = 'BOTTOM_RIGHT'\n",
    "dict_corner_pieces[corner_pieces[3]] = 'BOTTOM_LEFT'\n",
    "\n",
    "print(f'{corner_pieces=}')\n",
    "\n",
    "h = {}\n",
    "for piece in true_pieces:\n",
    "    if dict_corner_pieces.get(piece)!=None :\n",
    "        h[piece] = dict_corner_pieces.get(piece)\n",
    "    else :\n",
    "         h[piece] = dict_corner_pieces.get(piece)\n",
    "            \n",
    "# heuristic information : edge pieces\n",
    "\n",
    "# find top edges | b/w corner_pieces\n",
    "for top_edge_pieces in range(2,n):\n",
    "    h[top_edge_pieces]='TOP'\n",
    "#     print(top_edge_pieces)\n",
    "\n",
    "# find right edges\n",
    "for right_edge_pieces in range(2*n,elements,n):\n",
    "    h[right_edge_pieces]='RIGHT'\n",
    "#     print(right_edge_pieces)\n",
    "    \n",
    "# find bottom edges\n",
    "for bottom_edge_pieces in range(corner_pieces[-1]+1,elements,1):\n",
    "    h[bottom_edge_pieces]='BOTTOM'\n",
    "#     print(bottom_edge_pieces)\n",
    "\n",
    "# find left edges \n",
    "for left_edge_pieces in range(1+n,corner_pieces[3],n):\n",
    "    h[left_edge_pieces]='LEFT'\n",
    "#     print(left_edge_pieces)\n",
    "    \n",
    "h       "
   ]
  },
  {
   "cell_type": "markdown",
   "id": "641ca1c1-39b1-41f3-8aa0-df8098704657",
   "metadata": {
    "tags": []
   },
   "source": [
    "## Pre-requisites "
   ]
  },
  {
   "cell_type": "code",
   "execution_count": 6,
   "id": "00e3ff01-3bbe-4f5a-9b4c-ec6e3c8c8bb8",
   "metadata": {},
   "outputs": [],
   "source": [
    "# check if goal reached\n",
    "def goal_test(array_2d):\n",
    "#     print(f'{len(array_2d)== elements}')\n",
    "    return len(array_2d)== elements"
   ]
  },
  {
   "cell_type": "code",
   "execution_count": 7,
   "id": "34a7c275-4c77-452b-8da7-acf647fd44bb",
   "metadata": {},
   "outputs": [
    {
     "data": {
      "text/plain": [
       "array([[nan, nan, nan],\n",
       "       [nan, nan, nan],\n",
       "       [nan, nan, nan],\n",
       "       [nan, nan, nan]])"
      ]
     },
     "execution_count": 7,
     "metadata": {},
     "output_type": "execute_result"
    }
   ],
   "source": [
    "# empty place to put in puzzle\n",
    "# puzzle=None\n",
    "puzzle = np.ndarray(shape=(m,n), dtype=float, order='F')\n",
    "for _m in range(0,m):\n",
    "    for _n in range(0,n):\n",
    "        puzzle[_m][_n]=None\n",
    "\n",
    "puzzle"
   ]
  },
  {
   "cell_type": "code",
   "execution_count": 8,
   "id": "f66676ee-947f-45b3-99d5-9a7d0f2f730b",
   "metadata": {},
   "outputs": [
    {
     "data": {
      "text/plain": [
       "[4, 8, 9, 12, 7, 1, 3, 2, 10, 6, 11, 5]"
      ]
     },
     "execution_count": 8,
     "metadata": {},
     "output_type": "execute_result"
    }
   ],
   "source": [
    "# shuffle pieces\n",
    "random.shuffle(pieces)\n",
    "pieces"
   ]
  },
  {
   "cell_type": "code",
   "execution_count": 9,
   "id": "87b66837-afaf-431a-8fde-a70f6fe422b5",
   "metadata": {},
   "outputs": [],
   "source": [
    "neighbours_index = [-n , 1 , n , -1 ]\n",
    "nrighbour_position = [ 'TOP', 'RIGHT', 'BOTTOM', 'LEFT']\n",
    "positioning_map = { neighbour : position  for neighbour,\n",
    "            position in zip(nrighbour_position , neighbours_index)} "
   ]
  },
  {
   "cell_type": "code",
   "execution_count": 10,
   "id": "17be5437-141d-49fc-88bc-2124b98c52bb",
   "metadata": {},
   "outputs": [
    {
     "name": "stdout",
     "output_type": "stream",
     "text": [
      "{'TOP': -3, 'RIGHT': 1, 'BOTTOM': 3, 'LEFT': -1}\n"
     ]
    },
    {
     "data": {
      "text/plain": [
       "{'TOP': None, 'RIGHT': 3, 'BOTTOM': 5, 'LEFT': 1}"
      ]
     },
     "execution_count": 10,
     "metadata": {},
     "output_type": "execute_result"
    }
   ],
   "source": [
    "\n",
    "\n",
    "print(positioning_map)\n",
    "def get_neighbours(piece : int):\n",
    "    neighbours = [ x+piece for x in neighbours_index ]\n",
    "    \n",
    "    if ( h[piece] != None):\n",
    "        if h[piece] == 'TOP_LEFT':\n",
    "            neighbours[0] = None\n",
    "            neighbours[-1] = None\n",
    "        elif h[piece] == 'TOP':\n",
    "            neighbours[0] = None\n",
    "        elif h[piece] == 'TOP_RIGHT':\n",
    "            neighbours[0] = None\n",
    "            neighbours[1] = None\n",
    "        elif h[piece] == 'RIGHT':\n",
    "            neighbours[1] = None\n",
    "        elif h[piece] == 'BOTTOM_RIGHT':\n",
    "            neighbours[1] = None\n",
    "            neighbours[2] = None\n",
    "        elif h[piece] == 'BOTTOM':\n",
    "            neighbours[2] = None\n",
    "        elif h[piece] == 'BOTTOM_LEFT':\n",
    "            neighbours[2] = None\n",
    "            neighbours[-1] = None\n",
    "        elif h[piece] == 'LEFT':\n",
    "            neighbours[-1] = None\n",
    "    \n",
    "    new_dict = {position : neighbour  for neighbour,\n",
    "            position in zip(neighbours,nrighbour_position )} \n",
    "    return new_dict\n",
    "get_neighbours(2)"
   ]
  },
  {
   "cell_type": "code",
   "execution_count": 11,
   "id": "75771f31-5848-4c54-a88d-c7184f7b305d",
   "metadata": {},
   "outputs": [],
   "source": [
    "def aleady_placed_or_in_queue(piece_to_place:list, pieces_placed : list, piece):\n",
    "#     print(f'check if {piece} in lists')\n",
    "    \n",
    "    for l_pieces in piece_to_place:\n",
    "        l_piece = l_pieces[0]\n",
    "        if(l_piece==piece):\n",
    "#             print(f'{l_piece=}=={piece=} is{True}')\n",
    "            return True\n",
    "        \n",
    "    for l_pieces in pieces_placed:\n",
    "        l_piece = l_pieces[0]\n",
    "        if(l_piece==piece):\n",
    "#             print(f'{l_piece=}=={piece=} is{True}')\n",
    "            return True\n",
    "        \n",
    "#     print(f'{piece=} Not found ')\n",
    "    return False"
   ]
  },
  {
   "cell_type": "markdown",
   "id": "d5c2b780-baf3-4e4f-8347-386df0078ae1",
   "metadata": {
    "tags": []
   },
   "source": [
    "## solves using BFS search "
   ]
  },
  {
   "cell_type": "code",
   "execution_count": 12,
   "id": "93e37a5b-a829-468c-a45b-b7c83ee14dcb",
   "metadata": {},
   "outputs": [
    {
     "data": {
      "text/plain": [
       "array([[ 1.,  2.,  3.],\n",
       "       [ 4.,  5.,  6.],\n",
       "       [ 7.,  8.,  9.],\n",
       "       [10., 11., 12.]])"
      ]
     },
     "metadata": {},
     "output_type": "display_data"
    }
   ],
   "source": [
    "# pick a start node\n",
    "\n",
    "current_node = true_pieces[0] # start node\n",
    "\n",
    "pieces_placed = [] # closed list\n",
    "piece_to_place = [ ( current_node , None, None ) ] # open list\n",
    "\n",
    "print(f'{pieces_placed=}')\n",
    "print(f'{piece_to_place=}')\n",
    "\n",
    "puzzle[0][0] = current_node\n",
    "\n",
    "itr =1\n",
    "while goal_test(pieces_placed)==False:\n",
    "    clear_output(wait=True)\n",
    "#     display(f'')\n",
    "\n",
    "#     display(f'\\n{itr=}')\n",
    "#     display(f'{pieces_placed=}')\n",
    "#     display(f'{piece_to_place=}')\n",
    "\n",
    "    current_node = piece_to_place[0]\n",
    "    current_piece = int(current_node[0])\n",
    "    parent = current_node[1]\n",
    "    position_wrt_parent = current_node[2]\n",
    "    \n",
    "    # pieces placed\n",
    "    if( parent ):\n",
    "        # find location of parent\n",
    "        # find location to place using position wrt parent\n",
    "        for row in range(0,m):\n",
    "            for column in range(0,n):\n",
    "                if( puzzle[row][column] == parent ):\n",
    "                    if position_wrt_parent == 'TOP':\n",
    "                        puzzle[row-1][column] = current_piece\n",
    "                    elif position_wrt_parent == 'RIGHT':\n",
    "                        puzzle[row][column+1] = current_piece\n",
    "                    elif position_wrt_parent == 'BOTTOM':\n",
    "                        puzzle[row+1][column] = current_piece\n",
    "                    elif position_wrt_parent == 'LEFT':\n",
    "                        puzzle[row][column-1] = current_piece\n",
    "    pieces_placed.append(current_node)\n",
    "    display(puzzle)\n",
    "    \n",
    "    neighbours = get_neighbours(current_piece)\n",
    "    for k,v in neighbours.items():\n",
    "        if v : \n",
    "            neighbour = v\n",
    "            if ( aleady_placed_or_in_queue(piece_to_place, pieces_placed,neighbour )==False ):\n",
    "#                 print(f'adding {neighbour}')\n",
    "                piece_to_place.append( (neighbour, current_piece , k) )\n",
    "    \n",
    "    piece_to_place.remove(current_node)\n",
    "    itr+=1\n",
    "    time.sleep(0.5)\n",
    "\n",
    "# print(f'\\n\\n{pieces_placed=}')    "
   ]
  },
  {
   "cell_type": "markdown",
   "id": "f6a81069-2373-4a8c-ade2-3a72a8eb221f",
   "metadata": {
    "tags": []
   },
   "source": [
    "## solves using DFS search "
   ]
  },
  {
   "cell_type": "code",
   "execution_count": 13,
   "id": "4462ac59-cdcb-4247-a26c-a92d55f16d33",
   "metadata": {},
   "outputs": [
    {
     "data": {
      "text/plain": [
       "array([[nan, nan, nan],\n",
       "       [nan, nan, nan],\n",
       "       [nan, nan, nan],\n",
       "       [nan, nan, nan]])"
      ]
     },
     "execution_count": 13,
     "metadata": {},
     "output_type": "execute_result"
    }
   ],
   "source": [
    "# empty place to put in puzzle\n",
    "# puzzle=None\n",
    "puzzle = np.ndarray(shape=(m,n), dtype=float, order='F')\n",
    "for _m in range(0,m):\n",
    "    for _n in range(0,n):\n",
    "        puzzle[_m][_n]=None\n",
    "\n",
    "puzzle"
   ]
  },
  {
   "cell_type": "code",
   "execution_count": 14,
   "id": "0fd8feb0-6c3c-4e80-b674-be1d43ce62b6",
   "metadata": {},
   "outputs": [
    {
     "data": {
      "text/plain": [
       "array([[ 1.,  2.,  3.],\n",
       "       [ 4.,  5.,  6.],\n",
       "       [ 7.,  8.,  9.],\n",
       "       [10., 11., 12.]])"
      ]
     },
     "metadata": {},
     "output_type": "display_data"
    }
   ],
   "source": [
    "# pick a start node\n",
    "\n",
    "current_node = true_pieces[0] # start node\n",
    "\n",
    "pieces_placed = [] # closed list\n",
    "piece_to_place = [ ( current_node , None, None ) ] # open list\n",
    "\n",
    "print(f'{pieces_placed=}')\n",
    "print(f'{piece_to_place=}')\n",
    "\n",
    "puzzle[0][0] = current_node\n",
    "\n",
    "itr =1\n",
    "while goal_test(pieces_placed)==False:\n",
    "    clear_output(wait=True)\n",
    "#     display(f'')\n",
    "\n",
    "#     display(f'\\n{itr=}')\n",
    "#     display(f'{pieces_placed=}')\n",
    "#     display(f'{piece_to_place=}')\n",
    "\n",
    "    current_node = piece_to_place.pop(0)\n",
    "    current_piece = int(current_node[0])\n",
    "    parent = current_node[1]\n",
    "    position_wrt_parent = current_node[2]\n",
    "    \n",
    "    # pieces placed\n",
    "    if( parent ):\n",
    "        # find location of parent\n",
    "        # find location to place using position wrt parent\n",
    "        for row in range(0,m):\n",
    "            for column in range(0,n):\n",
    "                if( puzzle[row][column] == parent ):\n",
    "                    if position_wrt_parent == 'TOP':\n",
    "                        puzzle[row-1][column] = current_piece\n",
    "                    elif position_wrt_parent == 'RIGHT':\n",
    "                        puzzle[row][column+1] = current_piece\n",
    "                    elif position_wrt_parent == 'BOTTOM':\n",
    "                        puzzle[row+1][column] = current_piece\n",
    "                    elif position_wrt_parent == 'LEFT':\n",
    "                        puzzle[row][column-1] = current_piece\n",
    "    pieces_placed.append(current_node)\n",
    "    display(puzzle)\n",
    "    \n",
    "    neighbours = get_neighbours(current_piece)\n",
    "    for k,v in neighbours.items():\n",
    "        if v : \n",
    "            neighbour = v\n",
    "            if ( aleady_placed_or_in_queue(piece_to_place, pieces_placed,neighbour )==False ):\n",
    "#                 print(f'adding {neighbour}')\n",
    "                piece_to_place.insert(0, (neighbour, current_piece , k) )\n",
    "    \n",
    "    itr+=1\n",
    "    time.sleep(0.5)\n",
    "\n",
    "# print(f'\\n\\n{pieces_placed=}')    "
   ]
  },
  {
   "cell_type": "code",
   "execution_count": null,
   "id": "b988dbf9-66e0-4f1e-b2e3-54c69dc78a1f",
   "metadata": {},
   "outputs": [],
   "source": []
  }
 ],
 "metadata": {
  "kernelspec": {
   "display_name": "Python 3 (ipykernel)",
   "language": "python",
   "name": "python3"
  },
  "language_info": {
   "codemirror_mode": {
    "name": "ipython",
    "version": 3
   },
   "file_extension": ".py",
   "mimetype": "text/x-python",
   "name": "python",
   "nbconvert_exporter": "python",
   "pygments_lexer": "ipython3",
   "version": "3.8.8"
  }
 },
 "nbformat": 4,
 "nbformat_minor": 5
}
